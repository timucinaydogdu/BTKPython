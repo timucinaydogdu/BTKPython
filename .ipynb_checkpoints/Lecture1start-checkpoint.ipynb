{
 "cells": [
  {
   "cell_type": "markdown",
   "metadata": {},
   "source": [
    "# Btk Lecture Start"
   ]
  },
  {
   "cell_type": "markdown",
   "metadata": {},
   "source": [
    "This works follow btk class. "
   ]
  },
  {
   "cell_type": "code",
   "execution_count": 3,
   "metadata": {},
   "outputs": [
    {
     "name": "stdout",
     "output_type": "stream",
     "text": [
      "<class 'float'>\n",
      "<class 'int'>\n"
     ]
    }
   ],
   "source": [
    "## Numbers 5 and 23 integer. 5.0 and 3,14 float\n",
    "print(type(3.14))\n",
    "print(type(5))\n",
    "\n"
   ]
  },
  {
   "cell_type": "code",
   "execution_count": 7,
   "metadata": {},
   "outputs": [
    {
     "name": "stdout",
     "output_type": "stream",
     "text": [
      "5\n",
      "-1\n",
      "6\n",
      "0.6666666666666666\n",
      "8\n",
      "2\n",
      "0\n"
     ]
    }
   ],
   "source": [
    "## Mathematic Operants\n",
    "print(2+3)\n",
    "print(2-3)\n",
    "print(2*3)\n",
    "print(2/3)\n",
    "\n",
    "print(2**3) # Power\n",
    "print(2%3)  # Mod\n",
    "print(2//3) # Round"
   ]
  },
  {
   "cell_type": "code",
   "execution_count": 13,
   "metadata": {},
   "outputs": [
    {
     "name": "stdout",
     "output_type": "stream",
     "text": [
      "3650.0\n",
      "------------------------------------------------------------\n",
      "3650.0\n",
      "2920.0\n"
     ]
    }
   ],
   "source": [
    "## Variables\n",
    "\"\"\" Rules \n",
    "1.Dont start numbers\n",
    "2.Dont use some name\n",
    "3.Have key sensitiv \n",
    "4.Dont use turkish character.\n",
    "5.Dont use space\n",
    "\"\"\"\n",
    "print(5000-(5000*0.27))\n",
    "print(\"--\"*30)\n",
    "maasali=5000\n",
    "maasahmet=4000\n",
    "vergi=0.27\n",
    "print(maasali-(maasali*vergi))\n",
    "print(maasahmet-(maasahmet*vergi))"
   ]
  },
  {
   "cell_type": "code",
   "execution_count": 16,
   "metadata": {},
   "outputs": [
    {
     "name": "stdout",
     "output_type": "stream",
     "text": [
      "Total =  1567.45\n"
     ]
    }
   ],
   "source": [
    "## Sample\n",
    "\"\"\"\n",
    "Müşteri Adı\n",
    "Müşteri Soyadı\n",
    "Müşteri Cinsiyet\n",
    "Müşteri TC Numarası\n",
    "Müşteri Doğum Yılı\n",
    "Müşteri Adresi\n",
    "Müşteri Yaşı\n",
    "\"\"\"\n",
    "adi=\"Ali\"\n",
    "soyadi=\"Yılmaz\"\n",
    "adsoyadi=adi+soyadi\n",
    "cins=True #Male Erkek\n",
    "tcnum=\"1231233344\"\n",
    "dogum=1989\n",
    "adres=\"İstanbul Kadıköy\"\n",
    "yasi=2020-dogum\n",
    "\"\"\"\n",
    "Calculate Order\n",
    "1 ==>110\n",
    "2 ==>1100.5\n",
    "3 ==>356.95\n",
    "\"\"\"\n",
    "order1 = 110\n",
    "order2 = 1100.5\n",
    "order3 = 356.95\n",
    "print(\"Total = \", order1+order2+order3 )"
   ]
  },
  {
   "cell_type": "code",
   "execution_count": 20,
   "metadata": {},
   "outputs": [
    {
     "name": "stdout",
     "output_type": "stream",
     "text": [
      "1. Sayı35\n",
      "2. Sayı34\n",
      "69\n",
      "------------------------------------------------------------\n",
      "5.0\n",
      "2\n",
      "1\n"
     ]
    }
   ],
   "source": [
    "## Data Conversion\n",
    "#Str to int conversion\n",
    "x =input(\"1. Sayı\")\n",
    "y =input(\"2. Sayı\")\n",
    "topla=int(x)+int(y)\n",
    "print(topla)\n",
    "print(\"--\"*30)\n",
    "a=5             \n",
    "b=2.5\n",
    "name=\"Çınar\"\n",
    "isonline=True\n",
    "\n",
    "print(float(a))       # İnt to float\n",
    "print(int(b))         # Float to int\n",
    "print(int(isonline))  # Bool to int result 0 or 1\n"
   ]
  },
  {
   "cell_type": "code",
   "execution_count": 21,
   "metadata": {},
   "outputs": [
    {
     "name": "stdout",
     "output_type": "stream",
     "text": [
      "Yarıçap Girin : 25\n",
      "Alan  1962.5\n",
      "Çevre  157.0\n"
     ]
    }
   ],
   "source": [
    "## Sample \n",
    "\"\"\"\n",
    "   Daire alanı : pi * r *r\n",
    "   Daire çevresi : 2 * pi *r\n",
    "   (pi = 3.14)\n",
    "\"\"\"\n",
    "pi=3.14\n",
    "yaricap=input(\"Yarıçap Girin : \")\n",
    "alan=pi*(float(yaricap)**2)\n",
    "cevre=2*pi*float(yaricap)\n",
    "print(\"Alan \", alan)\n",
    "print(\"Çevre \", cevre)\n"
   ]
  },
  {
   "cell_type": "code",
   "execution_count": 19,
   "metadata": {},
   "outputs": [
    {
     "name": "stdout",
     "output_type": "stream",
     "text": [
      "My name isSadık Turan and \n",
      " I am 36 Years old\n",
      "45\n",
      "M\n",
      "n\n",
      "d\n",
      "name\n",
      "My name is Çınar Turan\n",
      "My name is Turan Çınar\n",
      "My name is Çınar Turan and i'm 36 years old.\n",
      "The Result is 0.286\n",
      "My name is Çınar Turan and i'm 36 years old.\n"
     ]
    }
   ],
   "source": [
    "## String Type \n",
    "\n",
    "name= \"Sadık\"\n",
    "surname=\"Turan\"\n",
    "age=36\n",
    "greeting=\"My name is\" + name + \" \" + surname + \" and \\n I am \" + str(age)+ \" Years old\"\n",
    "print(greeting)\n",
    "print(len(greeting))\n",
    "print(greeting[0])\n",
    "print(greeting[3])\n",
    "print(greeting[len(greeting)-1])\n",
    "print(greeting[3:7])\n",
    "\n",
    "# String Format\n",
    "name= \"Çınar\"\n",
    "surname = \"Turan\"\n",
    "age = 36\n",
    "print(\"My name is {} {}\".format(name,surname))\n",
    "print(\"My name is {1} {0}\".format(name,surname))\n",
    "print(\"My name is {} {} and i'm {} years old.\".format(name,surname,age)) # Passed integer eror.\n",
    "\n",
    "result=200/700\n",
    "print(\"The Result is {r:1.3}\".format(r=result))\n",
    "\n",
    "print(f\"My name is {name} {surname} and i'm {age} years old.\")"
   ]
  },
  {
   "cell_type": "code",
   "execution_count": 40,
   "metadata": {},
   "outputs": [
    {
     "name": "stdout",
     "output_type": "stream",
     "text": [
      "65\n",
      "www\n",
      "com\n",
      "Python Kursu: B-->riniz (40 saat)\n",
      ")taas 04( zinirebheR amalmargorP nohtyP anoS natşaB :usruK nohtyP\n",
      "------------------------------------------------------------\n",
      "Benim adım Bora Yılmaz, Yaşım 32 ve mesleğim Mühendis\n",
      "Hello World\n"
     ]
    }
   ],
   "source": [
    "## Sample \n",
    "website = \"http://www.sadikturan.com\"\n",
    "course  = \"Python Kursu: Baştan Sona Python Programlama Rehberiniz (40 saat)\"\n",
    "\"\"\"\n",
    "1. Course karakter dizisinde kaç eleman bulunmaktadır. \n",
    "2. website içinden www karakterlerini alın. \n",
    "3. website içinden com karakterlerini alın. \n",
    "4. course içinden ilk 15 ve son 15 karakteri alın. \n",
    "5. course ifadesindeki karakteri tersten yazdırın. \n",
    "\"\"\"\n",
    "print(len(course))                      #1. Cevap\n",
    "print(website[7:10])                    #2. Cevap\n",
    "print(website[-3:])                     #3. Cevap\n",
    "print(course[:15]+\"-->\"+course[-15:])   #4. Cevap\n",
    "print(course[::-1])                     #5. Cevap\n",
    "print(\"--\"*30)\n",
    "name, surname, age, job =\"Bora\",\"Yılmaz\",32,\"Mühendis\"\n",
    "s=\"Hello world\"\n",
    "\"\"\"\n",
    "6. Yukarıda verilen değişkenler ile ekrana aşağıdaki ifadeyi yazıdırın.\n",
    "--> Benim adım Bora Yılmaz, Yaşım 32 ve mesleğim Mühendis.\n",
    "7. Hello world ifadesindeki w harfini W ile değiştirelim.\n",
    "\"\"\"\n",
    "print(f\"Benim adım {name} {surname}, Yaşım {age} ve mesleğim {job}\") #6. Cevap\n",
    "print(s.replace(\"w\",\"W\"))                                            #7. Cevap\n"
   ]
  },
  {
   "cell_type": "code",
   "execution_count": 61,
   "metadata": {},
   "outputs": [
    {
     "name": "stdout",
     "output_type": "stream",
     "text": [
      "Hello There. My name is Timuçin AYDOĞDU\n",
      "------------------------------------------------------------\n",
      "HELLO THERE. MY NAME IS TIMUÇIN AYDOĞDU Upper\n",
      "hello there. my name is timuçin aydoğdu Lower\n",
      "Hello There. My Name Is Timuçin Aydoğdu Title\n",
      "Hello there. my name is timuçin aydoğdu Capitalize\n",
      "Hello There. My name is Timuçin AYDOĞDU Strip\n",
      "['Hello', 'There.', 'My', 'name', 'is', 'Timuçin', 'AYDOĞDU']  Split\n",
      "24\n",
      "True\n",
      "Hello--There.--My--name--is--Timuçin--AYDOĞDU\n",
      "*****Hello There. My name is Timuçin AYDOĞDU******\n"
     ]
    }
   ],
   "source": [
    "## String Metods \n",
    "messege=\"Hello There. My name is Timuçin AYDOĞDU\"\n",
    "print(messege)\n",
    "print(\"--\"*30)\n",
    "print(messege.upper()+\" Upper\")\n",
    "print(messege.lower()+\" Lower\")\n",
    "print(messege.title()+\" Title\")\n",
    "print(messege.capitalize()+\" Capitalize\")\n",
    "print(messege.strip()+\" Strip\") # Delete space stort and end\n",
    "print(messege.split(\" \"),\" Split\")\n",
    "print(messege.find(\"Timuçin\"))\n",
    "print(messege.startswith(\"H\"))\n",
    "print(messege.replace(\" \",\"--\"))\n",
    "print(messege.center(50,\"*\"))"
   ]
  },
  {
   "cell_type": "code",
   "execution_count": 81,
   "metadata": {},
   "outputs": [
    {
     "name": "stdout",
     "output_type": "stream",
     "text": [
      "Hello World\n",
      "sadikturan\n",
      "python kursu: baştan sona python programlama rehberiniz (40 saat)\n",
      "2\n",
      "False\n",
      "True\n",
      "21\n",
      "False\n",
      "*********************Contents*********************\n",
      "Python*Kursu:*Baştan*Sona*Python*Programlama*Rehberiniz*(40*saat)\n",
      " Hello There \n",
      "['Python', 'Kursu:', 'Baştan', 'Sona', 'Python', 'Programlama', 'Rehberiniz', '(40', 'saat)']\n"
     ]
    }
   ],
   "source": [
    "## Sample\n",
    "result  = \" Hello World \"\n",
    "website = \"http://www.sadikturan.com\"\n",
    "course  = \"Python Kursu: Baştan Sona Python Programlama Rehberiniz (40 saat)\"\n",
    "\"\"\"\n",
    "1. \" Hello World \" karakter dizisinin başındaki ve sonundaki boşlukları silin.\n",
    "2. \"www.sadikturan.com\" içindeki sadikturan bilgisi haricindeki her karakteri silin.\n",
    "3. course karakter dizisinin tüm karakterlerini küçük harf yapın. \n",
    "4. website içinde kaç tane a karakteri vardır. \n",
    "5. website içinde \"www\" ile başlayıp \".com\" ifadesi ile bitiyor mu ?\n",
    "6. website içinde \".com\" ifadesi var mı ? \n",
    "7. course içindeki karakterlerin hepsi alfabetik mi ? \n",
    "8. \"Contents\" ifadesinin satırda 50 karakter içine yerleştirip sağ ve soluna * ekleyin.\n",
    "9. course karakter dizisindeki tüm boşlukları \"-\" ile değiştirin.\n",
    "10.Hello World karakter dizisinin World ifadesini There olarak değiştirin. \n",
    "11.course karakter dizisini boşluklarından ayırın. \n",
    "\"\"\"\n",
    "print(result.strip())                  # 1. Cevap\n",
    "print(website.strip(\"htp://w.com\"))    # 2. Cevap\n",
    "print(course.lower())                  # 3. Cevap\n",
    "print(website.count(\"a\"))              # 4. Cevap\n",
    "print(website.startswith(\"www\"))\n",
    "print(website.endswith(\".com\"))        # 5. Cevap\n",
    "print(website.find(\".com\"))            # 6. Cevap\n",
    "print(course.isalpha())                # 7. Cevap\n",
    "print(\"Contents\".center(50,\"*\"))       # 8. Cevap\n",
    "print(course.replace(\" \",\"*\"))         # 9. Cevap\n",
    "print(result.replace(\"World\",\"There\")) # 10.Cevap\n",
    "print(course.split(\" \"))               # 11.Cevap"
   ]
  },
  {
   "cell_type": "code",
   "execution_count": null,
   "metadata": {},
   "outputs": [],
   "source": [
    "gggf    fggggfg . fgfgffgğfguie"
   ]
  },
  {
   "cell_type": "code",
   "execution_count": null,
   "metadata": {},
   "outputs": [],
   "source": [
    "fgğeaeeef fgfgf"
   ]
  }
 ],
 "metadata": {
  "kernelspec": {
   "display_name": "Python 3",
   "language": "python",
   "name": "python3"
  },
  "language_info": {
   "codemirror_mode": {
    "name": "ipython",
    "version": 3
   },
   "file_extension": ".py",
   "mimetype": "text/x-python",
   "name": "python",
   "nbconvert_exporter": "python",
   "pygments_lexer": "ipython3",
   "version": "3.7.6"
  }
 },
 "nbformat": 4,
 "nbformat_minor": 4
}