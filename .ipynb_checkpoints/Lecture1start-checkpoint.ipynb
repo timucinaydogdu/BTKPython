{
 "cells": [
  {
   "cell_type": "markdown",
   "metadata": {},
   "source": [
    "# Btk Lecture Start"
   ]
  },
  {
   "cell_type": "markdown",
   "metadata": {},
   "source": [
    "This works follow btk class. "
   ]
  },
  {
   "cell_type": "code",
   "execution_count": 3,
   "metadata": {},
   "outputs": [
    {
     "name": "stdout",
     "output_type": "stream",
     "text": [
      "<class 'float'>\n",
      "<class 'int'>\n"
     ]
    }
   ],
   "source": [
    "## Numbers 5 and 23 integer. 5.0 and 3,14 float\n",
    "print(type(3.14))\n",
    "print(type(5))\n",
    "\n"
   ]
  },
  {
   "cell_type": "code",
   "execution_count": 7,
   "metadata": {},
   "outputs": [
    {
     "name": "stdout",
     "output_type": "stream",
     "text": [
      "5\n",
      "-1\n",
      "6\n",
      "0.6666666666666666\n",
      "8\n",
      "2\n",
      "0\n"
     ]
    }
   ],
   "source": [
    "## Mathematic Operants\n",
    "print(2+3)\n",
    "print(2-3)\n",
    "print(2*3)\n",
    "print(2/3)\n",
    "\n",
    "print(2**3) # Power\n",
    "print(2%3)  # Mod\n",
    "print(2//3) # Round"
   ]
  },
  {
   "cell_type": "code",
   "execution_count": 13,
   "metadata": {},
   "outputs": [
    {
     "name": "stdout",
     "output_type": "stream",
     "text": [
      "3650.0\n",
      "------------------------------------------------------------\n",
      "3650.0\n",
      "2920.0\n"
     ]
    }
   ],
   "source": [
    "## Variables\n",
    "\"\"\" Rules \n",
    "1.Dont start numbers\n",
    "2.Dont use some name\n",
    "3.Have key sensitiv \n",
    "4.Dont use turkish character.\n",
    "5.Dont use space\n",
    "\"\"\"\n",
    "print(5000-(5000*0.27))\n",
    "print(\"--\"*30)\n",
    "maasali=5000\n",
    "maasahmet=4000\n",
    "vergi=0.27\n",
    "print(maasali-(maasali*vergi))\n",
    "print(maasahmet-(maasahmet*vergi))"
   ]
  },
  {
   "cell_type": "code",
   "execution_count": 16,
   "metadata": {},
   "outputs": [
    {
     "name": "stdout",
     "output_type": "stream",
     "text": [
      "Total =  1567.45\n"
     ]
    }
   ],
   "source": [
    "## Sample\n",
    "\"\"\"\n",
    "Müşteri Adı\n",
    "Müşteri Soyadı\n",
    "Müşteri Cinsiyet\n",
    "Müşteri TC Numarası\n",
    "Müşteri Doğum Yılı\n",
    "Müşteri Adresi\n",
    "Müşteri Yaşı\n",
    "\"\"\"\n",
    "adi=\"Ali\"\n",
    "soyadi=\"Yılmaz\"\n",
    "adsoyadi=adi+soyadi\n",
    "cins=True #Male Erkek\n",
    "tcnum=\"1231233344\"\n",
    "dogum=1989\n",
    "adres=\"İstanbul Kadıköy\"\n",
    "yasi=2020-dogum\n",
    "\"\"\"\n",
    "Calculate Order\n",
    "1 ==>110\n",
    "2 ==>1100.5\n",
    "3 ==>356.95\n",
    "\"\"\"\n",
    "order1 = 110\n",
    "order2 = 1100.5\n",
    "order3 = 356.95\n",
    "print(\"Total = \", order1+order2+order3 )"
   ]
  },
  {
   "cell_type": "code",
   "execution_count": 20,
   "metadata": {},
   "outputs": [
    {
     "name": "stdout",
     "output_type": "stream",
     "text": [
      "1. Sayı35\n",
      "2. Sayı34\n",
      "69\n",
      "------------------------------------------------------------\n",
      "5.0\n",
      "2\n",
      "1\n"
     ]
    }
   ],
   "source": [
    "## Data Conversion\n",
    "#Str to int conversion\n",
    "x =input(\"1. Sayı\")\n",
    "y =input(\"2. Sayı\")\n",
    "topla=int(x)+int(y)\n",
    "print(topla)\n",
    "print(\"--\"*30)\n",
    "a=5             \n",
    "b=2.5\n",
    "name=\"Çınar\"\n",
    "isonline=True\n",
    "\n",
    "print(float(a))       # İnt to float\n",
    "print(int(b))         # Float to int\n",
    "print(int(isonline))  # Bool to int result 0 or 1\n"
   ]
  },
  {
   "cell_type": "code",
   "execution_count": 21,
   "metadata": {},
   "outputs": [
    {
     "name": "stdout",
     "output_type": "stream",
     "text": [
      "Yarıçap Girin : 25\n",
      "Alan  1962.5\n",
      "Çevre  157.0\n"
     ]
    }
   ],
   "source": [
    "## Sample \n",
    "\"\"\"\n",
    "   Daire alanı : pi * r *r\n",
    "   Daire çevresi : 2 * pi *r\n",
    "   (pi = 3.14)\n",
    "\"\"\"\n",
    "pi=3.14\n",
    "yaricap=input(\"Yarıçap Girin : \")\n",
    "alan=pi*(float(yaricap)**2)\n",
    "cevre=2*pi*float(yaricap)\n",
    "print(\"Alan \", alan)\n",
    "print(\"Çevre \", cevre)\n"
   ]
  }
 ],
 "metadata": {
  "kernelspec": {
   "display_name": "Python 3",
   "language": "python",
   "name": "python3"
  },
  "language_info": {
   "codemirror_mode": {
    "name": "ipython",
    "version": 3
   },
   "file_extension": ".py",
   "mimetype": "text/x-python",
   "name": "python",
   "nbconvert_exporter": "python",
   "pygments_lexer": "ipython3",
   "version": "3.7.6"
  }
 },
 "nbformat": 4,
 "nbformat_minor": 4
}
