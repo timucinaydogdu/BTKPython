{
 "cells": [
  {
   "cell_type": "markdown",
   "metadata": {},
   "source": [
    "# Btk Lecture Start"
   ]
  },
  {
   "cell_type": "markdown",
   "metadata": {},
   "source": [
    "This works follow btk class. "
   ]
  },
  {
   "cell_type": "code",
   "execution_count": 3,
   "metadata": {},
   "outputs": [
    {
     "name": "stdout",
     "output_type": "stream",
     "text": [
      "<class 'float'>\n",
      "<class 'int'>\n"
     ]
    }
   ],
   "source": [
    "## Numbers 5 and 23 integer. 5.0 and 3,14 float\n",
    "print(type(3.14))\n",
    "print(type(5))\n",
    "\n"
   ]
  },
  {
   "cell_type": "code",
   "execution_count": 7,
   "metadata": {},
   "outputs": [
    {
     "name": "stdout",
     "output_type": "stream",
     "text": [
      "5\n",
      "-1\n",
      "6\n",
      "0.6666666666666666\n",
      "8\n",
      "2\n",
      "0\n"
     ]
    }
   ],
   "source": [
    "## Mathematic Operants\n",
    "print(2+3)\n",
    "print(2-3)\n",
    "print(2*3)\n",
    "print(2/3)\n",
    "\n",
    "print(2**3) # Power\n",
    "print(2%3)  # Mod\n",
    "print(2//3) # Round"
   ]
  },
  {
   "cell_type": "code",
   "execution_count": 13,
   "metadata": {},
   "outputs": [
    {
     "name": "stdout",
     "output_type": "stream",
     "text": [
      "3650.0\n",
      "------------------------------------------------------------\n",
      "3650.0\n",
      "2920.0\n"
     ]
    }
   ],
   "source": [
    "## Variables\n",
    "\"\"\" Rules \n",
    "1.Dont start numbers\n",
    "2.Dont use some name\n",
    "3.Have key sensitiv \n",
    "4.Dont use turkish character.\n",
    "5.Dont use space\n",
    "\"\"\"\n",
    "print(5000-(5000*0.27))\n",
    "print(\"--\"*30)\n",
    "maasali=5000\n",
    "maasahmet=4000\n",
    "vergi=0.27\n",
    "print(maasali-(maasali*vergi))\n",
    "print(maasahmet-(maasahmet*vergi))"
   ]
  },
  {
   "cell_type": "code",
   "execution_count": 16,
   "metadata": {},
   "outputs": [
    {
     "name": "stdout",
     "output_type": "stream",
     "text": [
      "Total =  1567.45\n"
     ]
    }
   ],
   "source": [
    "## Sample\n",
    "\"\"\"\n",
    "Müşteri Adı\n",
    "Müşteri Soyadı\n",
    "Müşteri Cinsiyet\n",
    "Müşteri TC Numarası\n",
    "Müşteri Doğum Yılı\n",
    "Müşteri Adresi\n",
    "Müşteri Yaşı\n",
    "\"\"\"\n",
    "adi=\"Ali\"\n",
    "soyadi=\"Yılmaz\"\n",
    "adsoyadi=adi+soyadi\n",
    "cins=True #Male Erkek\n",
    "tcnum=\"1231233344\"\n",
    "dogum=1989\n",
    "adres=\"İstanbul Kadıköy\"\n",
    "yasi=2020-dogum\n",
    "\"\"\"\n",
    "Calculate Order\n",
    "1 ==>110\n",
    "2 ==>1100.5\n",
    "3 ==>356.95\n",
    "\"\"\"\n",
    "order1 = 110\n",
    "order2 = 1100.5\n",
    "order3 = 356.95\n",
    "print(\"Total = \", order1+order2+order3 )"
   ]
  },
  {
   "cell_type": "code",
   "execution_count": 20,
   "metadata": {},
   "outputs": [
    {
     "name": "stdout",
     "output_type": "stream",
     "text": [
      "1. Sayı35\n",
      "2. Sayı34\n",
      "69\n",
      "------------------------------------------------------------\n",
      "5.0\n",
      "2\n",
      "1\n"
     ]
    }
   ],
   "source": [
    "## Data Conversion\n",
    "#Str to int conversion\n",
    "x =input(\"1. Sayı\")\n",
    "y =input(\"2. Sayı\")\n",
    "topla=int(x)+int(y)\n",
    "print(topla)\n",
    "print(\"--\"*30)\n",
    "a=5             \n",
    "b=2.5\n",
    "name=\"Çınar\"\n",
    "isonline=True\n",
    "\n",
    "print(float(a))       # İnt to float\n",
    "print(int(b))         # Float to int\n",
    "print(int(isonline))  # Bool to int result 0 or 1\n"
   ]
  },
  {
   "cell_type": "code",
   "execution_count": 21,
   "metadata": {},
   "outputs": [
    {
     "name": "stdout",
     "output_type": "stream",
     "text": [
      "Yarıçap Girin : 25\n",
      "Alan  1962.5\n",
      "Çevre  157.0\n"
     ]
    }
   ],
   "source": [
    "## Sample \n",
    "\"\"\"\n",
    "   Daire alanı : pi * r *r\n",
    "   Daire çevresi : 2 * pi *r\n",
    "   (pi = 3.14)\n",
    "\"\"\"\n",
    "pi=3.14\n",
    "yaricap=input(\"Yarıçap Girin : \")\n",
    "alan=pi*(float(yaricap)**2)\n",
    "cevre=2*pi*float(yaricap)\n",
    "print(\"Alan \", alan)\n",
    "print(\"Çevre \", cevre)\n"
   ]
  },
  {
   "cell_type": "code",
   "execution_count": 19,
   "metadata": {},
   "outputs": [
    {
     "name": "stdout",
     "output_type": "stream",
     "text": [
      "My name isSadık Turan and \n",
      " I am 36 Years old\n",
      "45\n",
      "M\n",
      "n\n",
      "d\n",
      "name\n",
      "My name is Çınar Turan\n",
      "My name is Turan Çınar\n",
      "My name is Çınar Turan and i'm 36 years old.\n",
      "The Result is 0.286\n",
      "My name is Çınar Turan and i'm 36 years old.\n"
     ]
    }
   ],
   "source": [
    "## String Type \n",
    "\n",
    "name= \"Sadık\"\n",
    "surname=\"Turan\"\n",
    "age=36\n",
    "greeting=\"My name is\" + name + \" \" + surname + \" and \\n I am \" + str(age)+ \" Years old\"\n",
    "print(greeting)\n",
    "print(len(greeting))\n",
    "print(greeting[0])\n",
    "print(greeting[3])\n",
    "print(greeting[len(greeting)-1])\n",
    "print(greeting[3:7])\n",
    "\n",
    "# String Format\n",
    "name= \"Çınar\"\n",
    "surname = \"Turan\"\n",
    "age = 36\n",
    "print(\"My name is {} {}\".format(name,surname))\n",
    "print(\"My name is {1} {0}\".format(name,surname))\n",
    "print(\"My name is {} {} and i'm {} years old.\".format(name,surname,age)) # Passed integer eror.\n",
    "\n",
    "result=200/700\n",
    "print(\"The Result is {r:1.3}\".format(r=result))\n",
    "\n",
    "print(f\"My name is {name} {surname} and i'm {age} years old.\")"
   ]
  },
  {
   "cell_type": "code",
   "execution_count": 40,
   "metadata": {},
   "outputs": [
    {
     "name": "stdout",
     "output_type": "stream",
     "text": [
      "65\n",
      "www\n",
      "com\n",
      "Python Kursu: B-->riniz (40 saat)\n",
      ")taas 04( zinirebheR amalmargorP nohtyP anoS natşaB :usruK nohtyP\n",
      "------------------------------------------------------------\n",
      "Benim adım Bora Yılmaz, Yaşım 32 ve mesleğim Mühendis\n",
      "Hello World\n"
     ]
    }
   ],
   "source": [
    "## Sample \n",
    "website = \"http://www.sadikturan.com\"\n",
    "course  = \"Python Kursu: Baştan Sona Python Programlama Rehberiniz (40 saat)\"\n",
    "\"\"\"\n",
    "1. Course karakter dizisinde kaç eleman bulunmaktadır. \n",
    "2. website içinden www karakterlerini alın. \n",
    "3. website içinden com karakterlerini alın. \n",
    "4. course içinden ilk 15 ve son 15 karakteri alın. \n",
    "5. course ifadesindeki karakteri tersten yazdırın. \n",
    "\"\"\"\n",
    "print(len(course))                      #1. Cevap\n",
    "print(website[7:10])                    #2. Cevap\n",
    "print(website[-3:])                     #3. Cevap\n",
    "print(course[:15]+\"-->\"+course[-15:])   #4. Cevap\n",
    "print(course[::-1])                     #5. Cevap\n",
    "print(\"--\"*30)\n",
    "name, surname, age, job =\"Bora\",\"Yılmaz\",32,\"Mühendis\"\n",
    "s=\"Hello world\"\n",
    "\"\"\"\n",
    "6. Yukarıda verilen değişkenler ile ekrana aşağıdaki ifadeyi yazıdırın.\n",
    "--> Benim adım Bora Yılmaz, Yaşım 32 ve mesleğim Mühendis.\n",
    "7. Hello world ifadesindeki w harfini W ile değiştirelim.\n",
    "\"\"\"\n",
    "print(f\"Benim adım {name} {surname}, Yaşım {age} ve mesleğim {job}\") #6. Cevap\n",
    "print(s.replace(\"w\",\"W\"))                                            #7. Cevap\n"
   ]
  },
  {
   "cell_type": "code",
   "execution_count": 61,
   "metadata": {},
   "outputs": [
    {
     "name": "stdout",
     "output_type": "stream",
     "text": [
      "Hello There. My name is Timuçin AYDOĞDU\n",
      "------------------------------------------------------------\n",
      "HELLO THERE. MY NAME IS TIMUÇIN AYDOĞDU Upper\n",
      "hello there. my name is timuçin aydoğdu Lower\n",
      "Hello There. My Name Is Timuçin Aydoğdu Title\n",
      "Hello there. my name is timuçin aydoğdu Capitalize\n",
      "Hello There. My name is Timuçin AYDOĞDU Strip\n",
      "['Hello', 'There.', 'My', 'name', 'is', 'Timuçin', 'AYDOĞDU']  Split\n",
      "24\n",
      "True\n",
      "Hello--There.--My--name--is--Timuçin--AYDOĞDU\n",
      "*****Hello There. My name is Timuçin AYDOĞDU******\n"
     ]
    }
   ],
   "source": [
    "## String Metods \n",
    "messege=\"Hello There. My name is Timuçin AYDOĞDU\"\n",
    "print(messege)\n",
    "print(\"--\"*30)\n",
    "print(messege.upper()+\" Upper\")\n",
    "print(messege.lower()+\" Lower\")\n",
    "print(messege.title()+\" Title\")\n",
    "print(messege.capitalize()+\" Capitalize\")\n",
    "print(messege.strip()+\" Strip\") # Delete space stort and end\n",
    "print(messege.split(\" \"),\" Split\")\n",
    "print(messege.find(\"Timuçin\"))\n",
    "print(messege.startswith(\"H\"))\n",
    "print(messege.replace(\" \",\"--\"))\n",
    "print(messege.center(50,\"*\"))"
   ]
  },
  {
   "cell_type": "code",
   "execution_count": 81,
   "metadata": {
    "scrolled": true
   },
   "outputs": [
    {
     "name": "stdout",
     "output_type": "stream",
     "text": [
      "Hello World\n",
      "sadikturan\n",
      "python kursu: baştan sona python programlama rehberiniz (40 saat)\n",
      "2\n",
      "False\n",
      "True\n",
      "21\n",
      "False\n",
      "*********************Contents*********************\n",
      "Python*Kursu:*Baştan*Sona*Python*Programlama*Rehberiniz*(40*saat)\n",
      " Hello There \n",
      "['Python', 'Kursu:', 'Baştan', 'Sona', 'Python', 'Programlama', 'Rehberiniz', '(40', 'saat)']\n"
     ]
    }
   ],
   "source": [
    "## Sample\n",
    "result  = \" Hello World \"\n",
    "website = \"http://www.sadikturan.com\"\n",
    "course  = \"Python Kursu: Baştan Sona Python Programlama Rehberiniz (40 saat)\"\n",
    "\"\"\"\n",
    "1. \" Hello World \" karakter dizisinin başındaki ve sonundaki boşlukları silin.\n",
    "2. \"www.sadikturan.com\" içindeki sadikturan bilgisi haricindeki her karakteri silin.\n",
    "3. course karakter dizisinin tüm karakterlerini küçük harf yapın. \n",
    "4. website içinde kaç tane a karakteri vardır. \n",
    "5. website içinde \"www\" ile başlayıp \".com\" ifadesi ile bitiyor mu ?\n",
    "6. website içinde \".com\" ifadesi var mı ? \n",
    "7. course içindeki karakterlerin hepsi alfabetik mi ? \n",
    "8. \"Contents\" ifadesinin satırda 50 karakter içine yerleştirip sağ ve soluna * ekleyin.\n",
    "9. course karakter dizisindeki tüm boşlukları \"-\" ile değiştirin.\n",
    "10.Hello World karakter dizisinin World ifadesini There olarak değiştirin. \n",
    "11.course karakter dizisini boşluklarından ayırın. \n",
    "\"\"\"\n",
    "print(result.strip())                  # 1. Cevap\n",
    "print(website.strip(\"htp://w.com\"))    # 2. Cevap\n",
    "print(course.lower())                  # 3. Cevap\n",
    "print(website.count(\"a\"))              # 4. Cevap\n",
    "print(website.startswith(\"www\"))\n",
    "print(website.endswith(\".com\"))        # 5. Cevap\n",
    "print(website.find(\".com\"))            # 6. Cevap\n",
    "print(course.isalpha())                # 7. Cevap\n",
    "print(\"Contents\".center(50,\"*\"))       # 8. Cevap\n",
    "print(course.replace(\" \",\"*\"))         # 9. Cevap\n",
    "print(result.replace(\"World\",\"There\")) # 10.Cevap\n",
    "print(course.split(\" \"))               # 11.Cevap"
   ]
  },
  {
   "cell_type": "code",
   "execution_count": 47,
   "metadata": {},
   "outputs": [
    {
     "name": "stdout",
     "output_type": "stream",
     "text": [
      "[1, 2, 3]\n",
      "['one', 'two', 'there', 'four', 'five', 'six']\n",
      "6\n",
      "four\n",
      "[['Timuçin', 36], ['Simay', 2]]\n",
      "1\n",
      "16\n",
      "a\n",
      "y\n",
      "[1, 10, 5]\n",
      "[1, 10, 5, 16, 40, 9, 10]\n",
      "[1, 10, 5, 16, 40, 9, 10, 49]\n",
      "[1, 10, 5, 78, 16, 40, 9, 10, 49]\n",
      "[1, 10, 5, 78, 16, 40, 9, 10]\n",
      "[1, 10, 78, 16, 40, 9, 10]\n",
      "[1, 9, 10, 10, 16, 40, 78]\n",
      "['a', 'a', 'b', 'g', 's', 's', 'y']\n",
      "[78, 40, 16, 10, 10, 9, 1]\n",
      "7\n",
      "7\n",
      "2\n",
      "[]\n"
     ]
    }
   ],
   "source": [
    "## Lists\n",
    "my_list =[1,2,3]\n",
    "list1 = [\"one\",\"two\",\"there\"]\n",
    "list2 = [\"four\",\"five\",\"six\"]\n",
    "list3 = list1 + list2\n",
    "print(my_list)\n",
    "print(list3)\n",
    "print(len(list3))\n",
    "print(list3[3])\n",
    "\n",
    "userA = [\"Timuçin\",36]\n",
    "userB = [\"Simay\",2]\n",
    "users = [userA,userB]\n",
    "print(users)\n",
    "\n",
    "numbers = [1,10,5,16,4,9,10]\n",
    "letters = ['a','g','s','b','y','a','s']\n",
    "minus = min(numbers)\n",
    "maxim = max(numbers)\n",
    "print(minus)\n",
    "print(maxim)\n",
    "minus = min(letters)\n",
    "maxim = max(letters)\n",
    "print(minus)\n",
    "print(maxim)\n",
    "lists= numbers[:3]\n",
    "print(lists)\n",
    "numbers[4] = 40 \n",
    "print(numbers)\n",
    "numbers.append(49)\n",
    "print(numbers)\n",
    "numbers.insert(3,78)\n",
    "print(numbers)\n",
    "numbers.pop()\n",
    "print(numbers)\n",
    "numbers.remove(5)\n",
    "print(numbers)\n",
    "numbers.sort()\n",
    "letters.sort()\n",
    "print(numbers)\n",
    "print(letters)\n",
    "numbers.reverse()\n",
    "print(numbers)\n",
    "print(len(numbers))\n",
    "print(len(letters))\n",
    "print(letters.count(\"a\"))\n",
    "numbers.clear()\n",
    "print(numbers)"
   ]
  },
  {
   "cell_type": "code",
   "execution_count": 30,
   "metadata": {},
   "outputs": [
    {
     "name": "stdout",
     "output_type": "stream",
     "text": [
      "['Bmw', 'Mercedes', 'Opel', 'Mazda']\n",
      "4\n",
      "Bmw Mazda\n",
      "['Bmw', 'Mercedes', 'Opel', 'Toyota']\n",
      "True\n",
      "Opel\n",
      "['Bmw', 'Mercedes', 'Opel']\n",
      "['Bmw', 'Mercedes', 'Toyota', 'Renault']\n",
      "['Bmw', 'Mercedes', 'Toyota', 'Renault', 'Audi', 'Nissan']\n",
      "['Bmw', 'Mercedes', 'Toyota', 'Renault', 'Audi']\n",
      "['Audi', 'Renault', 'Toyota', 'Mercedes', 'Bmw']\n",
      "[['Yiğit', 'Bilgi', 2010, [70, 60, 70]], ['Sena', 'Turan', 1999, [80, 80, 70]], ['Ahmet', 'Turan', 1998, [80, 70, 90]]]\n"
     ]
    }
   ],
   "source": [
    "## Lists Sample \n",
    "\"\"\"\n",
    "1. 'Bmw, Mercedes, Opel, Mazda' elemanlarına sahip bir liste oluşturunuz.\n",
    "2. Liste kaç elemanlıdır. \n",
    "3. Listenin ilk ve son elemanı nedir. \n",
    "4. Mazda değerini Toyota ile değiştirin. \n",
    "5. Mersedes listenin bir elemanı mıdır. \n",
    "6. Listenin -2 indeksindeki değeri nedir. \n",
    "7. Listenin ilk 3 elemanını alın. \n",
    "8. Listenin son 2 elemanı yerine 'Toyota' ve 'Renault' değerini ekleyin. \n",
    "9. Listenin üzerine 'Audi' ve 'Nissan' değerini ekleyin. \n",
    "10 Listenin son elemanını silin. \n",
    "11.Liste elemanlarını testten yazdırın. \n",
    "12.Aşağıdaki verileri bir liste içinde saklayınız. \n",
    "    studentA: Yiğit Bilgi  2010, (70.60,70)\n",
    "    studentB: Sena  Turan  1999, (80,80,70)\n",
    "    studentC: Ahmet Turan  1998, (80,70,90)\n",
    "13.Liste elemanlarını ekrana yazıdırınız. \n",
    "    \n",
    "\"\"\"\n",
    "arabalar=['Bmw', 'Mercedes', 'Opel', 'Mazda']\n",
    "print(arabalar)                        # 1. cevap\n",
    "print(len(arabalar))                   # 2. cevap\n",
    "print(arabalar[0] +\" \"+ arabalar[-1])  # 3. cevap\n",
    "arabalar[-1]=\"Toyota\"                  # 4. cevap\n",
    "print(arabalar)\n",
    "print(\"Mercedes\"in arabalar)           # 5. cevap\n",
    "print(arabalar[-2])                    # 6. cevap\n",
    "print(arabalar[0:3])                   # 7. cevap\n",
    "arabalar[-2:]=['Toyota','Renault']     # 8. cevap\n",
    "print(arabalar)                        \n",
    "arabalar+=['Audi','Nissan']            # 9. cevap\n",
    "print(arabalar)\n",
    "del arabalar[-1]                       #10. cevap\n",
    "print(arabalar)\n",
    "print(arabalar[::-1])                  #11. cevap\n",
    "studentA=['Yiğit','Bilgi',2010,[70,60,70]]\n",
    "studentB=['Sena','Turan',1999,[80,80,70]]\n",
    "studentC=['Ahmet','Turan',1998,[80,70,90]]\n",
    "students=[studentA,studentB,studentC]  #13. cevap\n",
    "print(students)"
   ]
  },
  {
   "cell_type": "code",
   "execution_count": 76,
   "metadata": {},
   "outputs": [
    {
     "name": "stdout",
     "output_type": "stream",
     "text": [
      "['Ali', 'Yağmur', 'Hakan', 'Deniz', 'Cenk']\n",
      "['Sena', 'Ali', 'Yağmur', 'Hakan', 'Deniz', 'Cenk']\n",
      "4\n",
      "['Sena', 'Ali', 'Yağmur', 'Hakan', 'Cenk']\n",
      "True\n",
      "['Cenk', 'Hakan', 'Yağmur', 'Ali', 'Sena']\n",
      "['Ali', 'Cenk', 'Hakan', 'Sena', 'Yağmur']\n",
      "[1987, 1998, 1998, 2000]\n",
      "['Chevrolet', 'Dacia']\n",
      "1987\n",
      "2000\n",
      "2\n",
      "[]\n",
      "1. Marka : Ford\n",
      "2. Marka : Mazda\n",
      "3. Marka : Skoda\n",
      "['Ford', 'Mazda', 'Skoda']\n"
     ]
    }
   ],
   "source": [
    "## Lists Sample 2 \n",
    "names = ['Ali','Yağmur','Hakan','Deniz']\n",
    "years = [1998,2000,1998,1987]\n",
    "\n",
    "\"\"\"\n",
    "1. \"Cenk\" ismini listenin sonuna ekleyiniz. \n",
    "2. \"Sena\" değerini listenin başına ekleyiniz. \n",
    "3. \"Deniz\" isminin indexsi nedir.  \n",
    "4. \"Deniz\" ismini listeden siliniz.\n",
    "5. \"Ali\" listenin bir elemanı mıdır ?\n",
    "6. Liste elemanlarını ters çevirin. \n",
    "7. Liste elemanlarını alfabetik olarak sıralayınız. \n",
    "8. Years listesin rakamsal büyüklüğe göre sıralayınız. \n",
    "9. str = 'Chevrolet,Dacia' karakter dizisini listeye çeviriniz. \n",
    "10.years dizisinin en büyük ve en küçük elemanı nedir. \n",
    "11.years dizisinde kaç tane 1998 değeri vardır. \n",
    "12.years dizisinin tüm elemanlarını siliniz. \n",
    "13.Kullanıcıdan alacağınız 3 tane marka bilgisini bir listede saklayınız. \n",
    "\"\"\"\n",
    "names.append(\"Cenk\")                  # 1. cevap\n",
    "print(names)\n",
    "names.insert(0,\"Sena\")                # 2. cevap\n",
    "print(names)\n",
    "print(names.index('Deniz'))           # 3. cevap\n",
    "names.remove(\"Deniz\")                 # 4. cevap\n",
    "print(names)\n",
    "result = 'Ali' in names               # 5. cevap\n",
    "print(result)\n",
    "names.reverse()\n",
    "print(names)                          # 6. cevap\n",
    "names.sort()\n",
    "print(names)                          # 7. cevap\n",
    "years.sort()\n",
    "print(years)                          # 8. cevap\n",
    "str= \"Chevrolet,Dacia\"\n",
    "result=str.split(\",\")                 # 9. cevap\n",
    "print(result)\n",
    "minus=min(years)                      # 10.cevap\n",
    "maxim=max(years)\n",
    "print(minus)\n",
    "print(maxim)\n",
    "result= years.count(1998)             # 11.cevap\n",
    "print(result)\n",
    "years.clear()                         # 12.cevap\n",
    "print(years)\n",
    "markalar = []\n",
    "\n",
    "marka=input(\"1. Marka : \")            # 13.cevap\n",
    "markalar.append(marka)\n",
    "\n",
    "marka=input(\"2. Marka : \")\n",
    "markalar.append(marka)\n",
    "\n",
    "marka=input(\"3. Marka : \") \n",
    "markalar.append(marka)\n",
    "\n",
    "print(markalar)"
   ]
  },
  {
   "cell_type": "code",
   "execution_count": null,
   "metadata": {},
   "outputs": [],
   "source": []
  }
 ],
 "metadata": {
  "kernelspec": {
   "display_name": "Python 3",
   "language": "python",
   "name": "python3"
  },
  "language_info": {
   "codemirror_mode": {
    "name": "ipython",
    "version": 3
   },
   "file_extension": ".py",
   "mimetype": "text/x-python",
   "name": "python",
   "nbconvert_exporter": "python",
   "pygments_lexer": "ipython3",
   "version": "3.8.8"
  }
 },
 "nbformat": 4,
 "nbformat_minor": 4
}
